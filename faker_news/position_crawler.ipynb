{
 "cells": [
  {
   "cell_type": "code",
   "execution_count": 6,
   "metadata": {},
   "outputs": [
    {
     "ename": "IndexError",
     "evalue": "list index out of range",
     "output_type": "error",
     "traceback": [
      "\u001b[1;31m---------------------------------------------------------------------------\u001b[0m",
      "\u001b[1;31mIndexError\u001b[0m                                Traceback (most recent call last)",
      "Cell \u001b[1;32mIn[6], line 45\u001b[0m\n\u001b[0;32m     43\u001b[0m     tree,session \u001b[38;5;241m=\u001b[39m get_page(\u001b[38;5;124m\"\u001b[39m\u001b[38;5;124mhttps://guba.eastmoney.com/list,600141.html\u001b[39m\u001b[38;5;124m\"\u001b[39m,using_proxy\u001b[38;5;241m=\u001b[39m\u001b[38;5;28;01mFalse\u001b[39;00m)\n\u001b[0;32m     44\u001b[0m     \u001b[38;5;28mprint\u001b[39m(find_total_page(tree))\n\u001b[1;32m---> 45\u001b[0m \u001b[43mmain\u001b[49m\u001b[43m(\u001b[49m\u001b[43m)\u001b[49m\n",
      "Cell \u001b[1;32mIn[6], line 44\u001b[0m, in \u001b[0;36mmain\u001b[1;34m()\u001b[0m\n\u001b[0;32m     42\u001b[0m \u001b[38;5;28;01mdef\u001b[39;00m \u001b[38;5;21mmain\u001b[39m():\n\u001b[0;32m     43\u001b[0m     tree,session \u001b[38;5;241m=\u001b[39m get_page(\u001b[38;5;124m\"\u001b[39m\u001b[38;5;124mhttps://guba.eastmoney.com/list,600141.html\u001b[39m\u001b[38;5;124m\"\u001b[39m,using_proxy\u001b[38;5;241m=\u001b[39m\u001b[38;5;28;01mFalse\u001b[39;00m)\n\u001b[1;32m---> 44\u001b[0m     \u001b[38;5;28mprint\u001b[39m(\u001b[43mfind_total_page\u001b[49m\u001b[43m(\u001b[49m\u001b[43mtree\u001b[49m\u001b[43m)\u001b[49m)\n",
      "Cell \u001b[1;32mIn[6], line 35\u001b[0m, in \u001b[0;36mfind_total_page\u001b[1;34m(tree)\u001b[0m\n\u001b[0;32m     32\u001b[0m \u001b[38;5;28;01mdef\u001b[39;00m \u001b[38;5;21mfind_total_page\u001b[39m(tree):\n\u001b[0;32m     33\u001b[0m     ul_elements \u001b[38;5;241m=\u001b[39m tree\u001b[38;5;241m.\u001b[39mxpath(\u001b[38;5;124mf\u001b[39m\u001b[38;5;124m'\u001b[39m\u001b[38;5;124m/html/body/div[1]/div[3]/div[1]/div[1]/div/ul/li[1]/ul\u001b[39m\u001b[38;5;124m'\u001b[39m)\n\u001b[1;32m---> 35\u001b[0m     li_elements \u001b[38;5;241m=\u001b[39m \u001b[43mul_elements\u001b[49m\u001b[43m[\u001b[49m\u001b[38;5;241;43m0\u001b[39;49m\u001b[43m]\u001b[49m\u001b[38;5;241m.\u001b[39mxpath(\u001b[38;5;124m\"\u001b[39m\u001b[38;5;124m.//li\u001b[39m\u001b[38;5;124m\"\u001b[39m)\n\u001b[0;32m     36\u001b[0m     total_count \u001b[38;5;241m=\u001b[39m \u001b[38;5;28mlen\u001b[39m(li_elements)\n\u001b[0;32m     37\u001b[0m     \u001b[38;5;28;01mif\u001b[39;00m total_count \u001b[38;5;241m>\u001b[39m\u001b[38;5;241m=\u001b[39m \u001b[38;5;241m3\u001b[39m:\n",
      "\u001b[1;31mIndexError\u001b[0m: list index out of range"
     ]
    }
   ],
   "source": [
    "import pandas as pd\n",
    "import requests\n",
    "import random\n",
    "from lxml import etree\n",
    "from fake_useragent import UserAgent\n",
    "\n",
    "ua = UserAgent()\n",
    "proxy_list= []\n",
    "df = pd.read_excel(\"the_fake.xlsx\")\n",
    "\n",
    "def get_page(url,using_proxy=True):\n",
    "\n",
    "    random_user_agent = ua.random\n",
    "    header = {'User-Agent': random_user_agent}\n",
    "    session = requests.session()\n",
    "    session.keep_alive = False \n",
    "    # 发起请求\n",
    "    if using_proxy == True:\n",
    "        get_proxy =  random.get(proxy_list)\n",
    "        proxies = {'http': 'http://' + get_proxy}\n",
    "        session.proxies.update(proxies)\n",
    "    else:\n",
    "        pass\n",
    "    response = session.get(url, headers=header).text\n",
    "    #print(response)\n",
    "    # response.text返回的是Unicode类型的数据，不能encoding为utf-8\n",
    "    tree = etree.HTML(response)  # 实例化源码\n",
    "    return tree,session\n",
    "\n",
    "#def find_year(tree):\n",
    "\n",
    "def find_total_page(tree):\n",
    "    ul_elements = tree.xpath(f'/html/body/div[1]/div[3]/div[1]/div[1]/div/ul/li[1]/ul')\n",
    "    \n",
    "    li_elements = ul_elements[0].xpath(\".//li\")\n",
    "    total_count = len(li_elements)\n",
    "    if total_count >= 3:\n",
    "        total_page_value = li_elements[-3].text\n",
    "    final_page_xpath = f'//*[@id=\"mainlist\"]/div/ul/li[1]/ul/li[{str(total_page_value)}]/a/span'\n",
    "    total_page = tree.xpath(final_page_xpath)\n",
    "    return total_page\n",
    "def main():\n",
    "    tree,session = get_page(\"https://guba.eastmoney.com/list,600141.html\",using_proxy=False)\n",
    "    print(find_total_page(tree))\n",
    "main()\n"
   ]
  }
 ],
 "metadata": {
  "kernelspec": {
   "display_name": "dirty_test",
   "language": "python",
   "name": "python3"
  },
  "language_info": {
   "codemirror_mode": {
    "name": "ipython",
    "version": 3
   },
   "file_extension": ".py",
   "mimetype": "text/x-python",
   "name": "python",
   "nbconvert_exporter": "python",
   "pygments_lexer": "ipython3",
   "version": "3.9.18"
  }
 },
 "nbformat": 4,
 "nbformat_minor": 2
}
