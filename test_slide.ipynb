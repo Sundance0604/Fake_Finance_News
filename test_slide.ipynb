{
 "cells": [
  {
   "cell_type": "markdown",
   "metadata": {
    "slideshow": {
     "slide_type": "slide"
    }
   },
   "source": [
    "# 日死你"
   ]
  },
  {
   "cell_type": "code",
   "execution_count": null,
   "metadata": {
    "slideshow": {
     "slide_type": "subslide"
    }
   },
   "outputs": [],
   "source": [
    "import json\n",
    "import re\n",
    "import typing\n",
    "from dataclasses import dataclass\n",
    "from datetime import datetime, date\n",
    "from concurrent.futures import ThreadPoolExecutor\n",
    "\n",
    "from DrissionPage import ChromiumOptions, ChromiumPage\n",
    "from DrissionPage.common import Settings\n",
    "from DrissionPage.errors import ElementNotFoundError, WaitTimeoutError\n",
    "from rich import print\n"
   ]
  }
 ],
 "metadata": {
  "kernelspec": {
   "display_name": "dirty_test",
   "language": "python",
   "name": "python3"
  },
  "language_info": {
   "name": "python",
   "version": "3.9.18"
  }
 },
 "nbformat": 4,
 "nbformat_minor": 2
}
